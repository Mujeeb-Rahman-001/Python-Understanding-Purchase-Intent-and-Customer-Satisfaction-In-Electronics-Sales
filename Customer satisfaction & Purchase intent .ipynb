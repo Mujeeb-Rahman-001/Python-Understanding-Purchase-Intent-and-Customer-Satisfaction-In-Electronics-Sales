{
 "cells": [
  {
   "cell_type": "markdown",
   "id": "66a0e2b2-66e2-4e12-93b3-c0363d1a93f6",
   "metadata": {},
   "source": [
    "# Project Title : Understanding Purchase Intent and Customer Satisfaction In Electronics Sales"
   ]
  },
  {
   "cell_type": "markdown",
   "id": "d01a2e7c-dcec-4ef8-8850-7425ef2e3724",
   "metadata": {},
   "source": [
    "#  Introduction\n",
    "#### Understanding consumer behavior in the electronics market is vital for companies aiming to improve sales,\n",
    "#### enhance customer experience, and fine-tune marketing strategies. This dataset offers a comprehensive view \n",
    "#### of consumer electronics sales, encompassing both product-related attributes and customer demographics.\n",
    "#### Key features include product category, brand, pricing, customer age and gender, purchase frequency, \n",
    "#### satisfaction ratings, and a binary target variable—PurchaseIntent, indicating whether a customer intends to \n",
    "#### purchase the product.\n",
    "\n",
    "#### By analyzing these variables, this project seeks to identify patterns and relationships that influence a \n",
    "#### consumer's likelihood to make a purchase. Machine learning models can leverage this data to predict\n",
    "#### purchase intent, ultimately helping businesses target potential customers more effectively and personalize\n",
    "#### their marketing efforts.\n"
   ]
  },
  {
   "cell_type": "code",
   "execution_count": 1,
   "id": "3c77a4fc-9752-418a-8690-2fb3e24885a4",
   "metadata": {},
   "outputs": [],
   "source": [
    "# importing all basic libraries\n",
    "import numpy as np\n",
    "import pandas as pd\n",
    "import matplotlib.pyplot as plt\n",
    "import seaborn as sns\n"
   ]
  },
  {
   "cell_type": "code",
   "execution_count": 3,
   "id": "88da517e-7aea-4e5b-b502-d16ce6fcfa21",
   "metadata": {},
   "outputs": [],
   "source": [
    "df=pd.read_csv(\"consumer_electronics_sales_data.csv\")"
   ]
  },
  {
   "cell_type": "code",
   "execution_count": 3,
   "id": "f7a2ba7d-2b9b-4e63-94cd-13fbd04b46b9",
   "metadata": {},
   "outputs": [
    {
     "data": {
      "text/html": [
       "<div>\n",
       "<style scoped>\n",
       "    .dataframe tbody tr th:only-of-type {\n",
       "        vertical-align: middle;\n",
       "    }\n",
       "\n",
       "    .dataframe tbody tr th {\n",
       "        vertical-align: top;\n",
       "    }\n",
       "\n",
       "    .dataframe thead th {\n",
       "        text-align: right;\n",
       "    }\n",
       "</style>\n",
       "<table border=\"1\" class=\"dataframe\">\n",
       "  <thead>\n",
       "    <tr style=\"text-align: right;\">\n",
       "      <th></th>\n",
       "      <th>ProductID</th>\n",
       "      <th>ProductCategory</th>\n",
       "      <th>ProductBrand</th>\n",
       "      <th>ProductPrice</th>\n",
       "      <th>CustomerAge</th>\n",
       "      <th>CustomerGender</th>\n",
       "      <th>PurchaseFrequency</th>\n",
       "      <th>CustomerSatisfaction</th>\n",
       "      <th>PurchaseIntent</th>\n",
       "    </tr>\n",
       "  </thead>\n",
       "  <tbody>\n",
       "    <tr>\n",
       "      <th>0</th>\n",
       "      <td>5874</td>\n",
       "      <td>Smartphones</td>\n",
       "      <td>Other Brands</td>\n",
       "      <td>312.949668</td>\n",
       "      <td>18</td>\n",
       "      <td>0</td>\n",
       "      <td>2</td>\n",
       "      <td>1</td>\n",
       "      <td>0</td>\n",
       "    </tr>\n",
       "    <tr>\n",
       "      <th>1</th>\n",
       "      <td>5875</td>\n",
       "      <td>Smart Watches</td>\n",
       "      <td>Samsung</td>\n",
       "      <td>980.389404</td>\n",
       "      <td>35</td>\n",
       "      <td>1</td>\n",
       "      <td>7</td>\n",
       "      <td>2</td>\n",
       "      <td>1</td>\n",
       "    </tr>\n",
       "    <tr>\n",
       "      <th>2</th>\n",
       "      <td>5876</td>\n",
       "      <td>Tablets</td>\n",
       "      <td>Samsung</td>\n",
       "      <td>2606.718293</td>\n",
       "      <td>63</td>\n",
       "      <td>0</td>\n",
       "      <td>1</td>\n",
       "      <td>5</td>\n",
       "      <td>1</td>\n",
       "    </tr>\n",
       "    <tr>\n",
       "      <th>3</th>\n",
       "      <td>5877</td>\n",
       "      <td>Smartphones</td>\n",
       "      <td>Samsung</td>\n",
       "      <td>870.395450</td>\n",
       "      <td>63</td>\n",
       "      <td>1</td>\n",
       "      <td>10</td>\n",
       "      <td>3</td>\n",
       "      <td>1</td>\n",
       "    </tr>\n",
       "    <tr>\n",
       "      <th>4</th>\n",
       "      <td>5878</td>\n",
       "      <td>Tablets</td>\n",
       "      <td>Sony</td>\n",
       "      <td>1798.955875</td>\n",
       "      <td>57</td>\n",
       "      <td>0</td>\n",
       "      <td>17</td>\n",
       "      <td>3</td>\n",
       "      <td>0</td>\n",
       "    </tr>\n",
       "  </tbody>\n",
       "</table>\n",
       "</div>"
      ],
      "text/plain": [
       "   ProductID ProductCategory  ProductBrand  ProductPrice  CustomerAge  \\\n",
       "0       5874     Smartphones  Other Brands    312.949668           18   \n",
       "1       5875   Smart Watches       Samsung    980.389404           35   \n",
       "2       5876         Tablets       Samsung   2606.718293           63   \n",
       "3       5877     Smartphones       Samsung    870.395450           63   \n",
       "4       5878         Tablets          Sony   1798.955875           57   \n",
       "\n",
       "   CustomerGender  PurchaseFrequency  CustomerSatisfaction  PurchaseIntent  \n",
       "0               0                  2                     1               0  \n",
       "1               1                  7                     2               1  \n",
       "2               0                  1                     5               1  \n",
       "3               1                 10                     3               1  \n",
       "4               0                 17                     3               0  "
      ]
     },
     "execution_count": 3,
     "metadata": {},
     "output_type": "execute_result"
    }
   ],
   "source": [
    "df.head()"
   ]
  },
  {
   "cell_type": "code",
   "execution_count": 11,
   "id": "6ac15e5a-d6fa-40da-84a4-fa39975cd150",
   "metadata": {},
   "outputs": [
    {
     "data": {
      "text/plain": [
       "Index(['ProductID', 'ProductCategory', 'ProductBrand', 'ProductPrice',\n",
       "       'CustomerAge', 'CustomerGender', 'PurchaseFrequency',\n",
       "       'CustomerSatisfaction', 'PurchaseIntent'],\n",
       "      dtype='object')"
      ]
     },
     "execution_count": 11,
     "metadata": {},
     "output_type": "execute_result"
    }
   ],
   "source": [
    "df.columns"
   ]
  },
  {
   "cell_type": "code",
   "execution_count": 13,
   "id": "55eea433-e51f-40b5-9963-48b7c339a039",
   "metadata": {},
   "outputs": [
    {
     "data": {
      "text/plain": [
       "(9000, 9)"
      ]
     },
     "execution_count": 13,
     "metadata": {},
     "output_type": "execute_result"
    }
   ],
   "source": [
    "df.shape"
   ]
  },
  {
   "cell_type": "code",
   "execution_count": 15,
   "id": "cf3abd45-deb1-4260-b6c3-77f15303fb17",
   "metadata": {},
   "outputs": [
    {
     "name": "stdout",
     "output_type": "stream",
     "text": [
      "<class 'pandas.core.frame.DataFrame'>\n",
      "RangeIndex: 9000 entries, 0 to 8999\n",
      "Data columns (total 9 columns):\n",
      " #   Column                Non-Null Count  Dtype  \n",
      "---  ------                --------------  -----  \n",
      " 0   ProductID             9000 non-null   int64  \n",
      " 1   ProductCategory       9000 non-null   object \n",
      " 2   ProductBrand          9000 non-null   object \n",
      " 3   ProductPrice          9000 non-null   float64\n",
      " 4   CustomerAge           9000 non-null   int64  \n",
      " 5   CustomerGender        9000 non-null   int64  \n",
      " 6   PurchaseFrequency     9000 non-null   int64  \n",
      " 7   CustomerSatisfaction  9000 non-null   int64  \n",
      " 8   PurchaseIntent        9000 non-null   int64  \n",
      "dtypes: float64(1), int64(6), object(2)\n",
      "memory usage: 632.9+ KB\n"
     ]
    }
   ],
   "source": [
    "df.info()"
   ]
  },
  {
   "cell_type": "code",
   "execution_count": 17,
   "id": "22a5f47e-f761-49f3-836d-1955a059e9c7",
   "metadata": {},
   "outputs": [
    {
     "data": {
      "text/html": [
       "<div>\n",
       "<style scoped>\n",
       "    .dataframe tbody tr th:only-of-type {\n",
       "        vertical-align: middle;\n",
       "    }\n",
       "\n",
       "    .dataframe tbody tr th {\n",
       "        vertical-align: top;\n",
       "    }\n",
       "\n",
       "    .dataframe thead th {\n",
       "        text-align: right;\n",
       "    }\n",
       "</style>\n",
       "<table border=\"1\" class=\"dataframe\">\n",
       "  <thead>\n",
       "    <tr style=\"text-align: right;\">\n",
       "      <th></th>\n",
       "      <th>ProductID</th>\n",
       "      <th>ProductPrice</th>\n",
       "      <th>CustomerAge</th>\n",
       "      <th>CustomerGender</th>\n",
       "      <th>PurchaseFrequency</th>\n",
       "      <th>CustomerSatisfaction</th>\n",
       "      <th>PurchaseIntent</th>\n",
       "    </tr>\n",
       "  </thead>\n",
       "  <tbody>\n",
       "    <tr>\n",
       "      <th>count</th>\n",
       "      <td>9000.000000</td>\n",
       "      <td>9000.000000</td>\n",
       "      <td>9000.000000</td>\n",
       "      <td>9000.000000</td>\n",
       "      <td>9000.000000</td>\n",
       "      <td>9000.000000</td>\n",
       "      <td>9000.000000</td>\n",
       "    </tr>\n",
       "    <tr>\n",
       "      <th>mean</th>\n",
       "      <td>10373.500000</td>\n",
       "      <td>1527.429195</td>\n",
       "      <td>43.347000</td>\n",
       "      <td>0.508889</td>\n",
       "      <td>10.054667</td>\n",
       "      <td>2.996000</td>\n",
       "      <td>0.566444</td>\n",
       "    </tr>\n",
       "    <tr>\n",
       "      <th>std</th>\n",
       "      <td>2598.220545</td>\n",
       "      <td>829.900898</td>\n",
       "      <td>15.055084</td>\n",
       "      <td>0.499949</td>\n",
       "      <td>5.461328</td>\n",
       "      <td>1.405301</td>\n",
       "      <td>0.495593</td>\n",
       "    </tr>\n",
       "    <tr>\n",
       "      <th>min</th>\n",
       "      <td>5874.000000</td>\n",
       "      <td>100.376358</td>\n",
       "      <td>18.000000</td>\n",
       "      <td>0.000000</td>\n",
       "      <td>1.000000</td>\n",
       "      <td>1.000000</td>\n",
       "      <td>0.000000</td>\n",
       "    </tr>\n",
       "    <tr>\n",
       "      <th>25%</th>\n",
       "      <td>8123.750000</td>\n",
       "      <td>809.165014</td>\n",
       "      <td>30.000000</td>\n",
       "      <td>0.000000</td>\n",
       "      <td>5.000000</td>\n",
       "      <td>2.000000</td>\n",
       "      <td>0.000000</td>\n",
       "    </tr>\n",
       "    <tr>\n",
       "      <th>50%</th>\n",
       "      <td>10373.500000</td>\n",
       "      <td>1513.024577</td>\n",
       "      <td>43.000000</td>\n",
       "      <td>1.000000</td>\n",
       "      <td>10.000000</td>\n",
       "      <td>3.000000</td>\n",
       "      <td>1.000000</td>\n",
       "    </tr>\n",
       "    <tr>\n",
       "      <th>75%</th>\n",
       "      <td>12623.250000</td>\n",
       "      <td>2244.415520</td>\n",
       "      <td>56.000000</td>\n",
       "      <td>1.000000</td>\n",
       "      <td>15.000000</td>\n",
       "      <td>4.000000</td>\n",
       "      <td>1.000000</td>\n",
       "    </tr>\n",
       "    <tr>\n",
       "      <th>max</th>\n",
       "      <td>14873.000000</td>\n",
       "      <td>2999.852253</td>\n",
       "      <td>69.000000</td>\n",
       "      <td>1.000000</td>\n",
       "      <td>19.000000</td>\n",
       "      <td>5.000000</td>\n",
       "      <td>1.000000</td>\n",
       "    </tr>\n",
       "  </tbody>\n",
       "</table>\n",
       "</div>"
      ],
      "text/plain": [
       "          ProductID  ProductPrice  CustomerAge  CustomerGender  \\\n",
       "count   9000.000000   9000.000000  9000.000000     9000.000000   \n",
       "mean   10373.500000   1527.429195    43.347000        0.508889   \n",
       "std     2598.220545    829.900898    15.055084        0.499949   \n",
       "min     5874.000000    100.376358    18.000000        0.000000   \n",
       "25%     8123.750000    809.165014    30.000000        0.000000   \n",
       "50%    10373.500000   1513.024577    43.000000        1.000000   \n",
       "75%    12623.250000   2244.415520    56.000000        1.000000   \n",
       "max    14873.000000   2999.852253    69.000000        1.000000   \n",
       "\n",
       "       PurchaseFrequency  CustomerSatisfaction  PurchaseIntent  \n",
       "count        9000.000000           9000.000000     9000.000000  \n",
       "mean           10.054667              2.996000        0.566444  \n",
       "std             5.461328              1.405301        0.495593  \n",
       "min             1.000000              1.000000        0.000000  \n",
       "25%             5.000000              2.000000        0.000000  \n",
       "50%            10.000000              3.000000        1.000000  \n",
       "75%            15.000000              4.000000        1.000000  \n",
       "max            19.000000              5.000000        1.000000  "
      ]
     },
     "execution_count": 17,
     "metadata": {},
     "output_type": "execute_result"
    }
   ],
   "source": [
    "df.describe()"
   ]
  },
  {
   "cell_type": "markdown",
   "id": "b66ac1ce-0dc3-4bf9-b588-865c8aef7891",
   "metadata": {},
   "source": [
    "## Data Cleaning"
   ]
  },
  {
   "cell_type": "code",
   "execution_count": 7,
   "id": "aafdecf9-4d86-4595-84f1-aab6fd12fcfe",
   "metadata": {},
   "outputs": [
    {
     "data": {
      "text/plain": [
       "ProductID               0\n",
       "ProductCategory         0\n",
       "ProductBrand            0\n",
       "ProductPrice            0\n",
       "CustomerAge             0\n",
       "CustomerGender          0\n",
       "PurchaseFrequency       0\n",
       "CustomerSatisfaction    0\n",
       "PurchaseIntent          0\n",
       "dtype: int64"
      ]
     },
     "execution_count": 7,
     "metadata": {},
     "output_type": "execute_result"
    }
   ],
   "source": [
    "# checking for null values\n",
    "df.isnull().sum()"
   ]
  },
  {
   "cell_type": "code",
   "execution_count": 9,
   "id": "6e15b8ca-7778-46d6-890a-7d6676cdc3b6",
   "metadata": {},
   "outputs": [],
   "source": [
    "# checking for dulicates and droping\n",
    "df[df.duplicated(keep=False)]\n",
    "df.duplicated().sum()\n",
    "df.drop_duplicates(inplace=True)"
   ]
  },
  {
   "cell_type": "code",
   "execution_count": 87,
   "id": "1dd70132-425c-4957-9bf2-a8ba4d700570",
   "metadata": {},
   "outputs": [
    {
     "data": {
      "text/plain": [
       "ProductID               9000\n",
       "ProductCategory            5\n",
       "ProductBrand               5\n",
       "ProductPrice            9000\n",
       "CustomerAge               52\n",
       "CustomerGender             2\n",
       "PurchaseFrequency         19\n",
       "CustomerSatisfaction       5\n",
       "PurchaseIntent             2\n",
       "dtype: int64"
      ]
     },
     "execution_count": 87,
     "metadata": {},
     "output_type": "execute_result"
    }
   ],
   "source": [
    "# checking for unique values\n",
    "df.nunique()"
   ]
  },
  {
   "cell_type": "code",
   "execution_count": 11,
   "id": "8646bc6a-4373-4052-ba7b-e4d9f0187b24",
   "metadata": {},
   "outputs": [],
   "source": [
    "# define value counts\n",
    "def valuecounts(df):\n",
    "    for col in df.columns:\n",
    "        print(df[col].value_counts())"
   ]
  },
  {
   "cell_type": "code",
   "execution_count": 91,
   "id": "44986357-d723-4ec2-b0c9-44d881b9b9eb",
   "metadata": {
    "scrolled": true
   },
   "outputs": [
    {
     "name": "stdout",
     "output_type": "stream",
     "text": [
      "ProductCategory\n",
      "Laptops          1842\n",
      "Smartphones      1841\n",
      "Smart Watches    1810\n",
      "Tablets          1769\n",
      "Headphones       1738\n",
      "Name: count, dtype: int64\n",
      "ProductBrand\n",
      "Samsung         1854\n",
      "HP              1820\n",
      "Sony            1790\n",
      "Other Brands    1776\n",
      "Apple           1760\n",
      "Name: count, dtype: int64\n",
      "ProductPrice\n",
      "312.949668     1\n",
      "578.916196     1\n",
      "699.560319     1\n",
      "2468.218410    1\n",
      "1934.225349    1\n",
      "              ..\n",
      "2876.656745    1\n",
      "2213.412535    1\n",
      "812.674582     1\n",
      "471.585295     1\n",
      "2315.583087    1\n",
      "Name: count, Length: 9000, dtype: int64\n"
     ]
    }
   ],
   "source": [
    "df_sem=df[[\"ProductCategory\",\"ProductBrand\",\"ProductPrice\"]]\n",
    "valuecounts(df_sem)"
   ]
  },
  {
   "cell_type": "markdown",
   "id": "5b58930e-c19d-445f-93ab-98f5c2efb8d2",
   "metadata": {},
   "source": [
    "# Exploratory Data Analysis\n"
   ]
  },
  {
   "cell_type": "markdown",
   "id": "dc27482a-2b26-4130-a6c0-309dfc7cc01b",
   "metadata": {},
   "source": [
    "## Dependent Variables"
   ]
  },
  {
   "cell_type": "code",
   "execution_count": 95,
   "id": "999d73d9-8a49-4882-bd38-3c3ee5cdb436",
   "metadata": {},
   "outputs": [
    {
     "data": {
      "image/png": "[encoded data removed]",
      "text/plain": [
       "<Figure size 700x500 with 1 Axes>"
      ]
     },
     "metadata": {},
     "output_type": "display_data"
    }
   ],
   "source": [
    "plt.figure(figsize=(7,5))\n",
    "ax=sns.countplot(data=df,x=\"ProductCategory\")\n",
    "ax.bar_label(ax.containers[0])\n",
    "plt.show()"
   ]
  },
  {
   "cell_type": "code",
   "execution_count": 49,
   "id": "1f812284-019f-42f5-99b2-0ffc563f6ae0",
   "metadata": {},
   "outputs": [],
   "source": [
    "#from the above graph, it is clear that each product category is around the range of 1700."
   ]
  },
  {
   "cell_type": "code",
   "execution_count": 97,
   "id": "3951b5da-820d-4098-934c-922984220b28",
   "metadata": {},
   "outputs": [
    {
     "name": "stdout",
     "output_type": "stream",
     "text": [
      "              ProductPrice\n",
      "ProductBrand              \n",
      "Apple          1502.500348\n",
      "HP             1539.973206\n",
      "Other Brands   1499.356942\n",
      "Samsung        1568.324868\n",
      "Sony           1524.680821\n"
     ]
    }
   ],
   "source": [
    "gpb=df.groupby(\"ProductBrand\").agg({\"ProductPrice\":'mean'})\n",
    "print(gpb)"
   ]
  },
  {
   "cell_type": "code",
   "execution_count": 21,
   "id": "3b9910eb-ba36-450d-aafa-627c89295922",
   "metadata": {},
   "outputs": [
    {
     "data": {
      "image/png": "[encoded data removed]",
      "text/plain": [
       "<Figure size 500x500 with 2 Axes>"
      ]
     },
     "metadata": {},
     "output_type": "display_data"
    }
   ],
   "source": [
    "plt.figure(figsize=(5,5))\n",
    "sns.heatmap(gpb,annot=True)\n",
    "plt.show()"
   ]
  },
  {
   "cell_type": "code",
   "execution_count": 99,
   "id": "3b31eb95-720d-4a24-b5aa-19d7150f6975",
   "metadata": {},
   "outputs": [
    {
     "name": "stdout",
     "output_type": "stream",
     "text": [
      "              CustomerSatisfaction\n",
      "ProductBrand                      \n",
      "Apple                     3.057955\n",
      "HP                        2.981319\n",
      "Other Brands              3.014640\n",
      "Samsung                   2.962783\n",
      "Sony                      2.965922\n"
     ]
    }
   ],
   "source": [
    "gpb=df.groupby(\"ProductBrand\").agg({\"CustomerSatisfaction\":'mean'})\n",
    "print(gpb)"
   ]
  },
  {
   "cell_type": "code",
   "execution_count": 25,
   "id": "3c182cf9-9f24-4eea-9432-5604ad38ac05",
   "metadata": {},
   "outputs": [
    {
     "data": {
      "image/png": "[encoded data removed]",
      "text/plain": [
       "<Figure size 500x500 with 2 Axes>"
      ]
     },
     "metadata": {},
     "output_type": "display_data"
    }
   ],
   "source": [
    "plt.figure(figsize=(5,5))\n",
    "sns.heatmap(gpb,annot=True)\n",
    "plt.show()"
   ]
  },
  {
   "cell_type": "code",
   "execution_count": 101,
   "id": "3361d04f-be19-4c60-8e73-de9c274b4f6b",
   "metadata": {
    "scrolled": true
   },
   "outputs": [
    {
     "data": {
      "image/png": "[encoded data removed]",
      "text/plain": [
       "<Figure size 640x480 with 1 Axes>"
      ]
     },
     "metadata": {},
     "output_type": "display_data"
    }
   ],
   "source": [
    "sns.boxplot(data=df,x=\"CustomerSatisfaction\")\n",
    "plt.show()"
   ]
  },
  {
   "cell_type": "code",
   "execution_count": 29,
   "id": "ed72b879-b33b-49ee-be47-163ab02571b6",
   "metadata": {},
   "outputs": [
    {
     "data": {
      "image/png": "[encoded data removed]",
      "text/plain": [
       "<Figure size 640x480 with 1 Axes>"
      ]
     },
     "metadata": {},
     "output_type": "display_data"
    }
   ],
   "source": [
    "sns.boxplot(data=df,x=\"ProductCategory\")\n",
    "plt.show()"
   ]
  },
  {
   "cell_type": "code",
   "execution_count": 103,
   "id": "66d90927-3374-424f-902a-3ac6717f0e2f",
   "metadata": {},
   "outputs": [
    {
     "name": "stdout",
     "output_type": "stream",
     "text": [
      "['Other Brands' 'Samsung' 'Sony' 'HP' 'Apple']\n"
     ]
    }
   ],
   "source": [
    "print(df[\"ProductBrand\"].unique())"
   ]
  },
  {
   "cell_type": "markdown",
   "id": "2a73136d-1526-4f74-82f7-ee7c89555428",
   "metadata": {},
   "source": [
    "## Distribution of ProductBrands"
   ]
  },
  {
   "cell_type": "code",
   "execution_count": 13,
   "id": "64901a41-0648-4cfe-9993-3abdcd91f615",
   "metadata": {
    "scrolled": true
   },
   "outputs": [
    {
     "data": {
      "image/png": "[encoded data removed]",
      "text/plain": [
       "<Figure size 640x480 with 1 Axes>"
      ]
     },
     "metadata": {},
     "output_type": "display_data"
    }
   ],
   "source": [
    "groupA=df.loc[(df[\"ProductBrand\"]=='Other Brands')].count()\n",
    "groupB=df.loc[(df[\"ProductBrand\"]=='Samsung')].count()\n",
    "groupC=df.loc[(df[\"ProductBrand\"]=='Sony')].count()\n",
    "groupD=df.loc[(df[\"ProductBrand\"]=='HP')].count()\n",
    "groupE=df.loc[(df[\"ProductBrand\"]=='Apple')].count()\n",
    "\n",
    "l=['Other Brands','Samsung','Sony','HP','Apple']\n",
    "mlist=[groupA[\"ProductBrand\"],groupB[\"ProductBrand\"],groupC[\"ProductBrand\"],groupD[\"ProductBrand\"],groupE[\"ProductBrand\"]]\n",
    "plt.pie(mlist, labels=l, autopct='%1.1f%%', startangle=90, shadow=True)\n",
    "plt.title('Distribution of Product Brands')\n",
    "plt.axis('equal')  # Makes the pie chart a circle\n",
    "plt.show()\n"
   ]
  },
  {
   "cell_type": "markdown",
   "id": "ffb70246-cf00-42dc-b3a6-70608c7e2a03",
   "metadata": {},
   "source": [
    "##### Interpretation:\n",
    "The chart illustrates the distribution of products across specific brands.\n",
    "Other Brands dominate the product range, accounting for the largest share, indicating a high presence of diverse or lesser-known brands in the market.\n",
    "Samsung and Apple also hold significant portions, reflecting their strong market positions.\n",
    "Meanwhile, Sony and HP represent smaller shares, suggesting comparatively lower product availability or popularity within the dataset.\n",
    "\n"
   ]
  },
  {
   "cell_type": "markdown",
   "id": "02a87424-ee37-4a46-9b93-000193dfd543",
   "metadata": {},
   "source": [
    "# Correlation "
   ]
  },
  {
   "cell_type": "code",
   "execution_count": 107,
   "id": "f39df8f0-d4cf-4e64-a211-4e14a3c35cf7",
   "metadata": {},
   "outputs": [],
   "source": [
    "# Convert categories to numeric codes\n",
    "df['ProductCategory'] = df['ProductCategory'].astype('category').cat.codes\n",
    "df['ProductBrand'] = df['ProductBrand'].astype('category').cat.codes\n"
   ]
  },
  {
   "cell_type": "code",
   "execution_count": 109,
   "id": "2a3d32dc-0562-4baf-a945-5de07d2ac11f",
   "metadata": {},
   "outputs": [
    {
     "data": {
      "text/html": [
       "<div>\n",
       "<style scoped>\n",
       "    .dataframe tbody tr th:only-of-type {\n",
       "        vertical-align: middle;\n",
       "    }\n",
       "\n",
       "    .dataframe tbody tr th {\n",
       "        vertical-align: top;\n",
       "    }\n",
       "\n",
       "    .dataframe thead th {\n",
       "        text-align: right;\n",
       "    }\n",
       "</style>\n",
       "<table border=\"1\" class=\"dataframe\">\n",
       "  <thead>\n",
       "    <tr style=\"text-align: right;\">\n",
       "      <th></th>\n",
       "      <th>ProductID</th>\n",
       "      <th>ProductCategory</th>\n",
       "      <th>ProductBrand</th>\n",
       "      <th>ProductPrice</th>\n",
       "      <th>CustomerAge</th>\n",
       "      <th>CustomerGender</th>\n",
       "      <th>PurchaseFrequency</th>\n",
       "      <th>CustomerSatisfaction</th>\n",
       "      <th>PurchaseIntent</th>\n",
       "    </tr>\n",
       "  </thead>\n",
       "  <tbody>\n",
       "    <tr>\n",
       "      <th>ProductID</th>\n",
       "      <td>1.000000</td>\n",
       "      <td>-0.000541</td>\n",
       "      <td>0.010111</td>\n",
       "      <td>0.022327</td>\n",
       "      <td>-0.005579</td>\n",
       "      <td>0.017049</td>\n",
       "      <td>0.012688</td>\n",
       "      <td>-0.001504</td>\n",
       "      <td>-0.006596</td>\n",
       "    </tr>\n",
       "    <tr>\n",
       "      <th>ProductCategory</th>\n",
       "      <td>-0.000541</td>\n",
       "      <td>1.000000</td>\n",
       "      <td>0.002044</td>\n",
       "      <td>-0.019288</td>\n",
       "      <td>0.012900</td>\n",
       "      <td>0.006489</td>\n",
       "      <td>-0.024154</td>\n",
       "      <td>-0.002354</td>\n",
       "      <td>0.010940</td>\n",
       "    </tr>\n",
       "    <tr>\n",
       "      <th>ProductBrand</th>\n",
       "      <td>0.010111</td>\n",
       "      <td>0.002044</td>\n",
       "      <td>1.000000</td>\n",
       "      <td>0.012437</td>\n",
       "      <td>-0.004649</td>\n",
       "      <td>-0.029625</td>\n",
       "      <td>0.017497</td>\n",
       "      <td>-0.020234</td>\n",
       "      <td>-0.022632</td>\n",
       "    </tr>\n",
       "    <tr>\n",
       "      <th>ProductPrice</th>\n",
       "      <td>0.022327</td>\n",
       "      <td>-0.019288</td>\n",
       "      <td>0.012437</td>\n",
       "      <td>1.000000</td>\n",
       "      <td>-0.009322</td>\n",
       "      <td>0.001835</td>\n",
       "      <td>0.009281</td>\n",
       "      <td>0.002112</td>\n",
       "      <td>-0.017512</td>\n",
       "    </tr>\n",
       "    <tr>\n",
       "      <th>CustomerAge</th>\n",
       "      <td>-0.005579</td>\n",
       "      <td>0.012900</td>\n",
       "      <td>-0.004649</td>\n",
       "      <td>-0.009322</td>\n",
       "      <td>1.000000</td>\n",
       "      <td>-0.010767</td>\n",
       "      <td>0.005746</td>\n",
       "      <td>0.003753</td>\n",
       "      <td>0.289798</td>\n",
       "    </tr>\n",
       "    <tr>\n",
       "      <th>CustomerGender</th>\n",
       "      <td>0.017049</td>\n",
       "      <td>0.006489</td>\n",
       "      <td>-0.029625</td>\n",
       "      <td>0.001835</td>\n",
       "      <td>-0.010767</td>\n",
       "      <td>1.000000</td>\n",
       "      <td>-0.008643</td>\n",
       "      <td>0.007959</td>\n",
       "      <td>0.504412</td>\n",
       "    </tr>\n",
       "    <tr>\n",
       "      <th>PurchaseFrequency</th>\n",
       "      <td>0.012688</td>\n",
       "      <td>-0.024154</td>\n",
       "      <td>0.017497</td>\n",
       "      <td>0.009281</td>\n",
       "      <td>0.005746</td>\n",
       "      <td>-0.008643</td>\n",
       "      <td>1.000000</td>\n",
       "      <td>0.020603</td>\n",
       "      <td>-0.001465</td>\n",
       "    </tr>\n",
       "    <tr>\n",
       "      <th>CustomerSatisfaction</th>\n",
       "      <td>-0.001504</td>\n",
       "      <td>-0.002354</td>\n",
       "      <td>-0.020234</td>\n",
       "      <td>0.002112</td>\n",
       "      <td>0.003753</td>\n",
       "      <td>0.007959</td>\n",
       "      <td>0.020603</td>\n",
       "      <td>1.000000</td>\n",
       "      <td>0.391133</td>\n",
       "    </tr>\n",
       "    <tr>\n",
       "      <th>PurchaseIntent</th>\n",
       "      <td>-0.006596</td>\n",
       "      <td>0.010940</td>\n",
       "      <td>-0.022632</td>\n",
       "      <td>-0.017512</td>\n",
       "      <td>0.289798</td>\n",
       "      <td>0.504412</td>\n",
       "      <td>-0.001465</td>\n",
       "      <td>0.391133</td>\n",
       "      <td>1.000000</td>\n",
       "    </tr>\n",
       "  </tbody>\n",
       "</table>\n",
       "</div>"
      ],
      "text/plain": [
       "                      ProductID  ProductCategory  ProductBrand  ProductPrice  \\\n",
       "ProductID              1.000000        -0.000541      0.010111      0.022327   \n",
       "ProductCategory       -0.000541         1.000000      0.002044     -0.019288   \n",
       "ProductBrand           0.010111         0.002044      1.000000      0.012437   \n",
       "ProductPrice           0.022327        -0.019288      0.012437      1.000000   \n",
       "CustomerAge           -0.005579         0.012900     -0.004649     -0.009322   \n",
       "CustomerGender         0.017049         0.006489     -0.029625      0.001835   \n",
       "PurchaseFrequency      0.012688        -0.024154      0.017497      0.009281   \n",
       "CustomerSatisfaction  -0.001504        -0.002354     -0.020234      0.002112   \n",
       "PurchaseIntent        -0.006596         0.010940     -0.022632     -0.017512   \n",
       "\n",
       "                      CustomerAge  CustomerGender  PurchaseFrequency  \\\n",
       "ProductID               -0.005579        0.017049           0.012688   \n",
       "ProductCategory          0.012900        0.006489          -0.024154   \n",
       "ProductBrand            -0.004649       -0.029625           0.017497   \n",
       "ProductPrice            -0.009322        0.001835           0.009281   \n",
       "CustomerAge              1.000000       -0.010767           0.005746   \n",
       "CustomerGender          -0.010767        1.000000          -0.008643   \n",
       "PurchaseFrequency        0.005746       -0.008643           1.000000   \n",
       "CustomerSatisfaction     0.003753        0.007959           0.020603   \n",
       "PurchaseIntent           0.289798        0.504412          -0.001465   \n",
       "\n",
       "                      CustomerSatisfaction  PurchaseIntent  \n",
       "ProductID                        -0.001504       -0.006596  \n",
       "ProductCategory                  -0.002354        0.010940  \n",
       "ProductBrand                     -0.020234       -0.022632  \n",
       "ProductPrice                      0.002112       -0.017512  \n",
       "CustomerAge                       0.003753        0.289798  \n",
       "CustomerGender                    0.007959        0.504412  \n",
       "PurchaseFrequency                 0.020603       -0.001465  \n",
       "CustomerSatisfaction              1.000000        0.391133  \n",
       "PurchaseIntent                    0.391133        1.000000  "
      ]
     },
     "execution_count": 109,
     "metadata": {},
     "output_type": "execute_result"
    }
   ],
   "source": [
    "df.corr()"
   ]
  },
  {
   "cell_type": "code",
   "execution_count": 111,
   "id": "d3f00542-9e53-4f85-b317-5bdbe56fd55e",
   "metadata": {},
   "outputs": [],
   "source": [
    "corr_matrix = df.corr()\n"
   ]
  },
  {
   "cell_type": "code",
   "execution_count": 119,
   "id": "5cc41e59-6a62-430c-bb90-0340884e6eb8",
   "metadata": {},
   "outputs": [
    {
     "data": {
      "image/png": "[encoded data removed]",
      "text/plain": [
       "<Figure size 1000x800 with 2 Axes>"
      ]
     },
     "metadata": {},
     "output_type": "display_data"
    }
   ],
   "source": [
    "import seaborn as sns\n",
    "import matplotlib.pyplot as plt\n",
    "\n",
    "# Create the heatmap\n",
    "plt.figure(figsize=(10, 8))\n",
    "sns.heatmap(corr_matrix, annot=True, cmap='coolwarm',center=0, fmt=\".2f\", linewidths=0.5)\n",
    "plt.title('Correlation Heatmap')\n",
    "plt.show()\n"
   ]
  },
  {
   "cell_type": "markdown",
   "id": "a655e885-9a55-4825-b46b-ee158e643aa2",
   "metadata": {},
   "source": [
    "# Machine Learning Model"
   ]
  },
  {
   "cell_type": "code",
   "execution_count": 44,
   "id": "60e0f7ee-7181-4473-bc30-693da6235723",
   "metadata": {},
   "outputs": [],
   "source": [
    "# Model Building-RandomForestClassifier \n",
    "\n",
    "from sklearn.model_selection import train_test_split\n",
    "from sklearn.preprocessing import OneHotEncoder\n",
    "from sklearn.ensemble import RandomForestClassifier\n",
    "from sklearn.metrics import classification_report, confusion_matrix\n",
    "from sklearn.compose import ColumnTransformer\n",
    "from sklearn.pipeline import Pipeline\n",
    "from sklearn.metrics import accuracy_score, mean_squared_error\n"
   ]
  },
  {
   "cell_type": "code",
   "execution_count": 7,
   "id": "d2f10ccf-36fb-440d-8f34-9decd8be8714",
   "metadata": {},
   "outputs": [],
   "source": [
    "# Load data \n",
    "df = pd.read_csv(\"consumer_electronics_sales_data.csv\")"
   ]
  },
  {
   "cell_type": "markdown",
   "id": "37f5ed33-bcd7-4220-94bc-28dfcef9cd18",
   "metadata": {},
   "source": [
    "#### Loads the dataset into a pandas DataFrame.\n",
    "####  The dataset contains product and customer information, including the target label PurchaseIntent.\n"
   ]
  },
  {
   "cell_type": "code",
   "execution_count": 12,
   "id": "76a0f29f-91af-440f-8630-1dc660ab5677",
   "metadata": {},
   "outputs": [],
   "source": [
    "X = df.drop(columns=[\"PurchaseIntent\", \"ProductID\"]) \n",
    "y = df[\"PurchaseIntent\"]"
   ]
  },
  {
   "cell_type": "markdown",
   "id": "28a99f4a-fc4e-486a-8595-067e6b8bd689",
   "metadata": {},
   "source": [
    "#### X contains the independent variables (features).\n",
    "\n",
    "#### y is the dependent variable or label we want to predict (0 = no purchase intent, 1 = intent).\n",
    "\n",
    "#### ProductID is excluded since it's just an identifier and has no predictive power.\n",
    "\n"
   ]
  },
  {
   "cell_type": "code",
   "execution_count": 15,
   "id": "67df4db4-355b-4069-8bb2-a1e477e1dc57",
   "metadata": {},
   "outputs": [],
   "source": [
    "categorical_cols = [\"ProductCategory\", \"ProductBrand\"]"
   ]
  },
  {
   "cell_type": "markdown",
   "id": "dc06db11-1326-4a1d-8c5a-b3ec91dfe465",
   "metadata": {},
   "source": [
    "#### Identifies categorical variables that need to be encoded (converted to numbers) for machine learning algorithms to work properly.\n",
    "\n"
   ]
  },
  {
   "cell_type": "code",
   "execution_count": 20,
   "id": "7dae704c-0efd-4cda-9317-ec90d90c360a",
   "metadata": {},
   "outputs": [],
   "source": [
    "preprocessor = ColumnTransformer(\n",
    "    transformers=[\n",
    "        (\"cat\", OneHotEncoder(handle_unknown=\"ignore\"), categorical_cols)\n",
    "    ],\n",
    "    remainder=\"passthrough\"  \n",
    ")\n"
   ]
  },
  {
   "cell_type": "markdown",
   "id": "097d93a3-02b8-4251-8344-0937d56f5dde",
   "metadata": {},
   "source": [
    "#### OneHotEncoder is used to convert categorical variables into binary vectors.\n",
    "#### ColumnTransformer allows you to apply transformations only to specific columns,\n",
    "#### leaving the rest (remainder=\"passthrough\") untouched (e.g., numerical features like age or price).\n",
    "\n"
   ]
  },
  {
   "cell_type": "code",
   "execution_count": 23,
   "id": "cae19331-d068-4253-a842-ec49b6b07c5d",
   "metadata": {},
   "outputs": [],
   "source": [
    "pipeline = Pipeline(steps=[\n",
    "    (\"preprocessor\", preprocessor),\n",
    "    (\"classifier\", RandomForestClassifier(n_estimators=100, random_state=42))\n",
    "])\n"
   ]
  },
  {
   "cell_type": "markdown",
   "id": "06ec8252-107d-479a-a563-d5a40b618238",
   "metadata": {},
   "source": [
    "#### A pipeline chains the preprocessing and modeling steps into a single workflow.\n",
    "#### The Random Forest Classifier is chosen due to its robustness, good performance,\n",
    "#### and handling of both numerical and categorical data.\n",
    "#### n_estimators=100 means it builds 100 decision trees.\n",
    "\n"
   ]
  },
  {
   "cell_type": "code",
   "execution_count": 26,
   "id": "7b2c34e1-8e6f-4d4d-8be4-b7e2060e1db6",
   "metadata": {},
   "outputs": [],
   "source": [
    "X_train, X_test, y_train, y_test = train_test_split(\n",
    "    X, y, test_size=0.2, random_state=42\n",
    ")\n"
   ]
  },
  {
   "cell_type": "markdown",
   "id": "5bf782b3-c7f6-4c0b-89f9-ce8f56112dbf",
   "metadata": {},
   "source": [
    "####  Train/Test Split\n",
    "#### Splits the dataset into 80% for training and 20% for testing.\n",
    "#### Ensures the model is evaluated on unseen data to simulate real-world performance.\n",
    "\n",
    "\n"
   ]
  },
  {
   "cell_type": "code",
   "execution_count": 30,
   "id": "2708c7a6-7888-4954-8a4c-13aaa5b7a1a6",
   "metadata": {},
   "outputs": [
    {
     "data": {
      "text/html": [
       "<style>#sk-container-id-1 {\n",
       "  /* Definition of color scheme common for light and dark mode */\n",
       "  --sklearn-color-text: black;\n",
       "  --sklearn-color-line: gray;\n",
       "  /* Definition of color scheme for unfitted estimators */\n",
       "  --sklearn-color-unfitted-level-0: #fff5e6;\n",
       "  --sklearn-color-unfitted-level-1: #f6e4d2;\n",
       "  --sklearn-color-unfitted-level-2: #ffe0b3;\n",
       "  --sklearn-color-unfitted-level-3: chocolate;\n",
       "  /* Definition of color scheme for fitted estimators */\n",
       "  --sklearn-color-fitted-level-0: #f0f8ff;\n",
       "  --sklearn-color-fitted-level-1: #d4ebff;\n",
       "  --sklearn-color-fitted-level-2: #b3dbfd;\n",
       "  --sklearn-color-fitted-level-3: cornflowerblue;\n",
       "\n",
       "  /* Specific color for light theme */\n",
       "  --sklearn-color-text-on-default-background: var(--sg-text-color, var(--theme-code-foreground, var(--jp-content-font-color1, black)));\n",
       "  --sklearn-color-background: var(--sg-background-color, var(--theme-background, var(--jp-layout-color0, white)));\n",
       "  --sklearn-color-border-box: var(--sg-text-color, var(--theme-code-foreground, var(--jp-content-font-color1, black)));\n",
       "  --sklearn-color-icon: #696969;\n",
       "\n",
       "  @media (prefers-color-scheme: dark) {\n",
       "    /* Redefinition of color scheme for dark theme */\n",
       "    --sklearn-color-text-on-default-background: var(--sg-text-color, var(--theme-code-foreground, var(--jp-content-font-color1, white)));\n",
       "    --sklearn-color-background: var(--sg-background-color, var(--theme-background, var(--jp-layout-color0, #111)));\n",
       "    --sklearn-color-border-box: var(--sg-text-color, var(--theme-code-foreground, var(--jp-content-font-color1, white)));\n",
       "    --sklearn-color-icon: #878787;\n",
       "  }\n",
       "}\n",
       "\n",
       "#sk-container-id-1 {\n",
       "  color: var(--sklearn-color-text);\n",
       "}\n",
       "\n",
       "#sk-container-id-1 pre {\n",
       "  padding: 0;\n",
       "}\n",
       "\n",
       "#sk-container-id-1 input.sk-hidden--visually {\n",
       "  border: 0;\n",
       "  clip: rect(1px 1px 1px 1px);\n",
       "  clip: rect(1px, 1px, 1px, 1px);\n",
       "  height: 1px;\n",
       "  margin: -1px;\n",
       "  overflow: hidden;\n",
       "  padding: 0;\n",
       "  position: absolute;\n",
       "  width: 1px;\n",
       "}\n",
       "\n",
       "#sk-container-id-1 div.sk-dashed-wrapped {\n",
       "  border: 1px dashed var(--sklearn-color-line);\n",
       "  margin: 0 0.4em 0.5em 0.4em;\n",
       "  box-sizing: border-box;\n",
       "  padding-bottom: 0.4em;\n",
       "  background-color: var(--sklearn-color-background);\n",
       "}\n",
       "\n",
       "#sk-container-id-1 div.sk-container {\n",
       "  /* jupyter's `normalize.less` sets `[hidden] { display: none; }`\n",
       "     but bootstrap.min.css set `[hidden] { display: none !important; }`\n",
       "     so we also need the `!important` here to be able to override the\n",
       "     default hidden behavior on the sphinx rendered scikit-learn.org.\n",
       "     See: https://github.com/scikit-learn/scikit-learn/issues/21755 */\n",
       "  display: inline-block !important;\n",
       "  position: relative;\n",
       "}\n",
       "\n",
       "#sk-container-id-1 div.sk-text-repr-fallback {\n",
       "  display: none;\n",
       "}\n",
       "\n",
       "div.sk-parallel-item,\n",
       "div.sk-serial,\n",
       "div.sk-item {\n",
       "  /* draw centered vertical line to link estimators */\n",
       "  background-image: linear-gradient(var(--sklearn-color-text-on-default-background), var(--sklearn-color-text-on-default-background));\n",
       "  background-size: 2px 100%;\n",
       "  background-repeat: no-repeat;\n",
       "  background-position: center center;\n",
       "}\n",
       "\n",
       "/* Parallel-specific style estimator block */\n",
       "\n",
       "#sk-container-id-1 div.sk-parallel-item::after {\n",
       "  content: \"\";\n",
       "  width: 100%;\n",
       "  border-bottom: 2px solid var(--sklearn-color-text-on-default-background);\n",
       "  flex-grow: 1;\n",
       "}\n",
       "\n",
       "#sk-container-id-1 div.sk-parallel {\n",
       "  display: flex;\n",
       "  align-items: stretch;\n",
       "  justify-content: center;\n",
       "  background-color: var(--sklearn-color-background);\n",
       "  position: relative;\n",
       "}\n",
       "\n",
       "#sk-container-id-1 div.sk-parallel-item {\n",
       "  display: flex;\n",
       "  flex-direction: column;\n",
       "}\n",
       "\n",
       "#sk-container-id-1 div.sk-parallel-item:first-child::after {\n",
       "  align-self: flex-end;\n",
       "  width: 50%;\n",
       "}\n",
       "\n",
       "#sk-container-id-1 div.sk-parallel-item:last-child::after {\n",
       "  align-self: flex-start;\n",
       "  width: 50%;\n",
       "}\n",
       "\n",
       "#sk-container-id-1 div.sk-parallel-item:only-child::after {\n",
       "  width: 0;\n",
       "}\n",
       "\n",
       "/* Serial-specific style estimator block */\n",
       "\n",
       "#sk-container-id-1 div.sk-serial {\n",
       "  display: flex;\n",
       "  flex-direction: column;\n",
       "  align-items: center;\n",
       "  background-color: var(--sklearn-color-background);\n",
       "  padding-right: 1em;\n",
       "  padding-left: 1em;\n",
       "}\n",
       "\n",
       "\n",
       "/* Toggleable style: style used for estimator/Pipeline/ColumnTransformer box that is\n",
       "clickable and can be expanded/collapsed.\n",
       "- Pipeline and ColumnTransformer use this feature and define the default style\n",
       "- Estimators will overwrite some part of the style using the `sk-estimator` class\n",
       "*/\n",
       "\n",
       "/* Pipeline and ColumnTransformer style (default) */\n",
       "\n",
       "#sk-container-id-1 div.sk-toggleable {\n",
       "  /* Default theme specific background. It is overwritten whether we have a\n",
       "  specific estimator or a Pipeline/ColumnTransformer */\n",
       "  background-color: var(--sklearn-color-background);\n",
       "}\n",
       "\n",
       "/* Toggleable label */\n",
       "#sk-container-id-1 label.sk-toggleable__label {\n",
       "  cursor: pointer;\n",
       "  display: block;\n",
       "  width: 100%;\n",
       "  margin-bottom: 0;\n",
       "  padding: 0.5em;\n",
       "  box-sizing: border-box;\n",
       "  text-align: center;\n",
       "}\n",
       "\n",
       "#sk-container-id-1 label.sk-toggleable__label-arrow:before {\n",
       "  /* Arrow on the left of the label */\n",
       "  content: \"▸\";\n",
       "  float: left;\n",
       "  margin-right: 0.25em;\n",
       "  color: var(--sklearn-color-icon);\n",
       "}\n",
       "\n",
       "#sk-container-id-1 label.sk-toggleable__label-arrow:hover:before {\n",
       "  color: var(--sklearn-color-text);\n",
       "}\n",
       "\n",
       "/* Toggleable content - dropdown */\n",
       "\n",
       "#sk-container-id-1 div.sk-toggleable__content {\n",
       "  max-height: 0;\n",
       "  max-width: 0;\n",
       "  overflow: hidden;\n",
       "  text-align: left;\n",
       "  /* unfitted */\n",
       "  background-color: var(--sklearn-color-unfitted-level-0);\n",
       "}\n",
       "\n",
       "#sk-container-id-1 div.sk-toggleable__content.fitted {\n",
       "  /* fitted */\n",
       "  background-color: var(--sklearn-color-fitted-level-0);\n",
       "}\n",
       "\n",
       "#sk-container-id-1 div.sk-toggleable__content pre {\n",
       "  margin: 0.2em;\n",
       "  border-radius: 0.25em;\n",
       "  color: var(--sklearn-color-text);\n",
       "  /* unfitted */\n",
       "  background-color: var(--sklearn-color-unfitted-level-0);\n",
       "}\n",
       "\n",
       "#sk-container-id-1 div.sk-toggleable__content.fitted pre {\n",
       "  /* unfitted */\n",
       "  background-color: var(--sklearn-color-fitted-level-0);\n",
       "}\n",
       "\n",
       "#sk-container-id-1 input.sk-toggleable__control:checked~div.sk-toggleable__content {\n",
       "  /* Expand drop-down */\n",
       "  max-height: 200px;\n",
       "  max-width: 100%;\n",
       "  overflow: auto;\n",
       "}\n",
       "\n",
       "#sk-container-id-1 input.sk-toggleable__control:checked~label.sk-toggleable__label-arrow:before {\n",
       "  content: \"▾\";\n",
       "}\n",
       "\n",
       "/* Pipeline/ColumnTransformer-specific style */\n",
       "\n",
       "#sk-container-id-1 div.sk-label input.sk-toggleable__control:checked~label.sk-toggleable__label {\n",
       "  color: var(--sklearn-color-text);\n",
       "  background-color: var(--sklearn-color-unfitted-level-2);\n",
       "}\n",
       "\n",
       "#sk-container-id-1 div.sk-label.fitted input.sk-toggleable__control:checked~label.sk-toggleable__label {\n",
       "  background-color: var(--sklearn-color-fitted-level-2);\n",
       "}\n",
       "\n",
       "/* Estimator-specific style */\n",
       "\n",
       "/* Colorize estimator box */\n",
       "#sk-container-id-1 div.sk-estimator input.sk-toggleable__control:checked~label.sk-toggleable__label {\n",
       "  /* unfitted */\n",
       "  background-color: var(--sklearn-color-unfitted-level-2);\n",
       "}\n",
       "\n",
       "#sk-container-id-1 div.sk-estimator.fitted input.sk-toggleable__control:checked~label.sk-toggleable__label {\n",
       "  /* fitted */\n",
       "  background-color: var(--sklearn-color-fitted-level-2);\n",
       "}\n",
       "\n",
       "#sk-container-id-1 div.sk-label label.sk-toggleable__label,\n",
       "#sk-container-id-1 div.sk-label label {\n",
       "  /* The background is the default theme color */\n",
       "  color: var(--sklearn-color-text-on-default-background);\n",
       "}\n",
       "\n",
       "/* On hover, darken the color of the background */\n",
       "#sk-container-id-1 div.sk-label:hover label.sk-toggleable__label {\n",
       "  color: var(--sklearn-color-text);\n",
       "  background-color: var(--sklearn-color-unfitted-level-2);\n",
       "}\n",
       "\n",
       "/* Label box, darken color on hover, fitted */\n",
       "#sk-container-id-1 div.sk-label.fitted:hover label.sk-toggleable__label.fitted {\n",
       "  color: var(--sklearn-color-text);\n",
       "  background-color: var(--sklearn-color-fitted-level-2);\n",
       "}\n",
       "\n",
       "/* Estimator label */\n",
       "\n",
       "#sk-container-id-1 div.sk-label label {\n",
       "  font-family: monospace;\n",
       "  font-weight: bold;\n",
       "  display: inline-block;\n",
       "  line-height: 1.2em;\n",
       "}\n",
       "\n",
       "#sk-container-id-1 div.sk-label-container {\n",
       "  text-align: center;\n",
       "}\n",
       "\n",
       "/* Estimator-specific */\n",
       "#sk-container-id-1 div.sk-estimator {\n",
       "  font-family: monospace;\n",
       "  border: 1px dotted var(--sklearn-color-border-box);\n",
       "  border-radius: 0.25em;\n",
       "  box-sizing: border-box;\n",
       "  margin-bottom: 0.5em;\n",
       "  /* unfitted */\n",
       "  background-color: var(--sklearn-color-unfitted-level-0);\n",
       "}\n",
       "\n",
       "#sk-container-id-1 div.sk-estimator.fitted {\n",
       "  /* fitted */\n",
       "  background-color: var(--sklearn-color-fitted-level-0);\n",
       "}\n",
       "\n",
       "/* on hover */\n",
       "#sk-container-id-1 div.sk-estimator:hover {\n",
       "  /* unfitted */\n",
       "  background-color: var(--sklearn-color-unfitted-level-2);\n",
       "}\n",
       "\n",
       "#sk-container-id-1 div.sk-estimator.fitted:hover {\n",
       "  /* fitted */\n",
       "  background-color: var(--sklearn-color-fitted-level-2);\n",
       "}\n",
       "\n",
       "/* Specification for estimator info (e.g. \"i\" and \"?\") */\n",
       "\n",
       "/* Common style for \"i\" and \"?\" */\n",
       "\n",
       ".sk-estimator-doc-link,\n",
       "a:link.sk-estimator-doc-link,\n",
       "a:visited.sk-estimator-doc-link {\n",
       "  float: right;\n",
       "  font-size: smaller;\n",
       "  line-height: 1em;\n",
       "  font-family: monospace;\n",
       "  background-color: var(--sklearn-color-background);\n",
       "  border-radius: 1em;\n",
       "  height: 1em;\n",
       "  width: 1em;\n",
       "  text-decoration: none !important;\n",
       "  margin-left: 1ex;\n",
       "  /* unfitted */\n",
       "  border: var(--sklearn-color-unfitted-level-1) 1pt solid;\n",
       "  color: var(--sklearn-color-unfitted-level-1);\n",
       "}\n",
       "\n",
       ".sk-estimator-doc-link.fitted,\n",
       "a:link.sk-estimator-doc-link.fitted,\n",
       "a:visited.sk-estimator-doc-link.fitted {\n",
       "  /* fitted */\n",
       "  border: var(--sklearn-color-fitted-level-1) 1pt solid;\n",
       "  color: var(--sklearn-color-fitted-level-1);\n",
       "}\n",
       "\n",
       "/* On hover */\n",
       "div.sk-estimator:hover .sk-estimator-doc-link:hover,\n",
       ".sk-estimator-doc-link:hover,\n",
       "div.sk-label-container:hover .sk-estimator-doc-link:hover,\n",
       ".sk-estimator-doc-link:hover {\n",
       "  /* unfitted */\n",
       "  background-color: var(--sklearn-color-unfitted-level-3);\n",
       "  color: var(--sklearn-color-background);\n",
       "  text-decoration: none;\n",
       "}\n",
       "\n",
       "div.sk-estimator.fitted:hover .sk-estimator-doc-link.fitted:hover,\n",
       ".sk-estimator-doc-link.fitted:hover,\n",
       "div.sk-label-container:hover .sk-estimator-doc-link.fitted:hover,\n",
       ".sk-estimator-doc-link.fitted:hover {\n",
       "  /* fitted */\n",
       "  background-color: var(--sklearn-color-fitted-level-3);\n",
       "  color: var(--sklearn-color-background);\n",
       "  text-decoration: none;\n",
       "}\n",
       "\n",
       "/* Span, style for the box shown on hovering the info icon */\n",
       ".sk-estimator-doc-link span {\n",
       "  display: none;\n",
       "  z-index: 9999;\n",
       "  position: relative;\n",
       "  font-weight: normal;\n",
       "  right: .2ex;\n",
       "  padding: .5ex;\n",
       "  margin: .5ex;\n",
       "  width: min-content;\n",
       "  min-width: 20ex;\n",
       "  max-width: 50ex;\n",
       "  color: var(--sklearn-color-text);\n",
       "  box-shadow: 2pt 2pt 4pt #999;\n",
       "  /* unfitted */\n",
       "  background: var(--sklearn-color-unfitted-level-0);\n",
       "  border: .5pt solid var(--sklearn-color-unfitted-level-3);\n",
       "}\n",
       "\n",
       ".sk-estimator-doc-link.fitted span {\n",
       "  /* fitted */\n",
       "  background: var(--sklearn-color-fitted-level-0);\n",
       "  border: var(--sklearn-color-fitted-level-3);\n",
       "}\n",
       "\n",
       ".sk-estimator-doc-link:hover span {\n",
       "  display: block;\n",
       "}\n",
       "\n",
       "/* \"?\"-specific style due to the `<a>` HTML tag */\n",
       "\n",
       "#sk-container-id-1 a.estimator_doc_link {\n",
       "  float: right;\n",
       "  font-size: 1rem;\n",
       "  line-height: 1em;\n",
       "  font-family: monospace;\n",
       "  background-color: var(--sklearn-color-background);\n",
       "  border-radius: 1rem;\n",
       "  height: 1rem;\n",
       "  width: 1rem;\n",
       "  text-decoration: none;\n",
       "  /* unfitted */\n",
       "  color: var(--sklearn-color-unfitted-level-1);\n",
       "  border: var(--sklearn-color-unfitted-level-1) 1pt solid;\n",
       "}\n",
       "\n",
       "#sk-container-id-1 a.estimator_doc_link.fitted {\n",
       "  /* fitted */\n",
       "  border: var(--sklearn-color-fitted-level-1) 1pt solid;\n",
       "  color: var(--sklearn-color-fitted-level-1);\n",
       "}\n",
       "\n",
       "/* On hover */\n",
       "#sk-container-id-1 a.estimator_doc_link:hover {\n",
       "  /* unfitted */\n",
       "  background-color: var(--sklearn-color-unfitted-level-3);\n",
       "  color: var(--sklearn-color-background);\n",
       "  text-decoration: none;\n",
       "}\n",
       "\n",
       "#sk-container-id-1 a.estimator_doc_link.fitted:hover {\n",
       "  /* fitted */\n",
       "  background-color: var(--sklearn-color-fitted-level-3);\n",
       "}\n",
       "</style><div id=\"sk-container-id-1\" class=\"sk-top-container\"><div class=\"sk-text-repr-fallback\"><pre>Pipeline(steps=[(&#x27;preprocessor&#x27;,\n",
       "                 ColumnTransformer(remainder=&#x27;passthrough&#x27;,\n",
       "                                   transformers=[(&#x27;cat&#x27;,\n",
       "                                                  OneHotEncoder(handle_unknown=&#x27;ignore&#x27;),\n",
       "                                                  [&#x27;ProductCategory&#x27;,\n",
       "                                                   &#x27;ProductBrand&#x27;])])),\n",
       "                (&#x27;classifier&#x27;, RandomForestClassifier(random_state=42))])</pre><b>In a Jupyter environment, please rerun this cell to show the HTML representation or trust the notebook. <br />On GitHub, the HTML representation is unable to render, please try loading this page with nbviewer.org.</b></div><div class=\"sk-container\" hidden><div class=\"sk-item sk-dashed-wrapped\"><div class=\"sk-label-container\"><div class=\"sk-label fitted sk-toggleable\"><input class=\"sk-toggleable__control sk-hidden--visually\" id=\"sk-estimator-id-1\" type=\"checkbox\" ><label for=\"sk-estimator-id-1\" class=\"sk-toggleable__label fitted sk-toggleable__label-arrow fitted\">&nbsp;&nbsp;Pipeline<a class=\"sk-estimator-doc-link fitted\" rel=\"noreferrer\" target=\"_blank\" href=\"https://scikit-learn.org/1.4/modules/generated/sklearn.pipeline.Pipeline.html\">?<span>Documentation for Pipeline</span></a><span class=\"sk-estimator-doc-link fitted\">i<span>Fitted</span></span></label><div class=\"sk-toggleable__content fitted\"><pre>Pipeline(steps=[(&#x27;preprocessor&#x27;,\n",
       "                 ColumnTransformer(remainder=&#x27;passthrough&#x27;,\n",
       "                                   transformers=[(&#x27;cat&#x27;,\n",
       "                                                  OneHotEncoder(handle_unknown=&#x27;ignore&#x27;),\n",
       "                                                  [&#x27;ProductCategory&#x27;,\n",
       "                                                   &#x27;ProductBrand&#x27;])])),\n",
       "                (&#x27;classifier&#x27;, RandomForestClassifier(random_state=42))])</pre></div> </div></div><div class=\"sk-serial\"><div class=\"sk-item sk-dashed-wrapped\"><div class=\"sk-label-container\"><div class=\"sk-label fitted sk-toggleable\"><input class=\"sk-toggleable__control sk-hidden--visually\" id=\"sk-estimator-id-2\" type=\"checkbox\" ><label for=\"sk-estimator-id-2\" class=\"sk-toggleable__label fitted sk-toggleable__label-arrow fitted\">&nbsp;preprocessor: ColumnTransformer<a class=\"sk-estimator-doc-link fitted\" rel=\"noreferrer\" target=\"_blank\" href=\"https://scikit-learn.org/1.4/modules/generated/sklearn.compose.ColumnTransformer.html\">?<span>Documentation for preprocessor: ColumnTransformer</span></a></label><div class=\"sk-toggleable__content fitted\"><pre>ColumnTransformer(remainder=&#x27;passthrough&#x27;,\n",
       "                  transformers=[(&#x27;cat&#x27;, OneHotEncoder(handle_unknown=&#x27;ignore&#x27;),\n",
       "                                 [&#x27;ProductCategory&#x27;, &#x27;ProductBrand&#x27;])])</pre></div> </div></div><div class=\"sk-parallel\"><div class=\"sk-parallel-item\"><div class=\"sk-item\"><div class=\"sk-label-container\"><div class=\"sk-label fitted sk-toggleable\"><input class=\"sk-toggleable__control sk-hidden--visually\" id=\"sk-estimator-id-3\" type=\"checkbox\" ><label for=\"sk-estimator-id-3\" class=\"sk-toggleable__label fitted sk-toggleable__label-arrow fitted\">cat</label><div class=\"sk-toggleable__content fitted\"><pre>[&#x27;ProductCategory&#x27;, &#x27;ProductBrand&#x27;]</pre></div> </div></div><div class=\"sk-serial\"><div class=\"sk-item\"><div class=\"sk-estimator fitted sk-toggleable\"><input class=\"sk-toggleable__control sk-hidden--visually\" id=\"sk-estimator-id-4\" type=\"checkbox\" ><label for=\"sk-estimator-id-4\" class=\"sk-toggleable__label fitted sk-toggleable__label-arrow fitted\">&nbsp;OneHotEncoder<a class=\"sk-estimator-doc-link fitted\" rel=\"noreferrer\" target=\"_blank\" href=\"https://scikit-learn.org/1.4/modules/generated/sklearn.preprocessing.OneHotEncoder.html\">?<span>Documentation for OneHotEncoder</span></a></label><div class=\"sk-toggleable__content fitted\"><pre>OneHotEncoder(handle_unknown=&#x27;ignore&#x27;)</pre></div> </div></div></div></div></div><div class=\"sk-parallel-item\"><div class=\"sk-item\"><div class=\"sk-label-container\"><div class=\"sk-label fitted sk-toggleable\"><input class=\"sk-toggleable__control sk-hidden--visually\" id=\"sk-estimator-id-5\" type=\"checkbox\" ><label for=\"sk-estimator-id-5\" class=\"sk-toggleable__label fitted sk-toggleable__label-arrow fitted\">remainder</label><div class=\"sk-toggleable__content fitted\"><pre>[&#x27;ProductPrice&#x27;, &#x27;CustomerAge&#x27;, &#x27;CustomerGender&#x27;, &#x27;PurchaseFrequency&#x27;, &#x27;CustomerSatisfaction&#x27;]</pre></div> </div></div><div class=\"sk-serial\"><div class=\"sk-item\"><div class=\"sk-estimator fitted sk-toggleable\"><input class=\"sk-toggleable__control sk-hidden--visually\" id=\"sk-estimator-id-6\" type=\"checkbox\" ><label for=\"sk-estimator-id-6\" class=\"sk-toggleable__label fitted sk-toggleable__label-arrow fitted\">passthrough</label><div class=\"sk-toggleable__content fitted\"><pre>passthrough</pre></div> </div></div></div></div></div></div></div><div class=\"sk-item\"><div class=\"sk-estimator fitted sk-toggleable\"><input class=\"sk-toggleable__control sk-hidden--visually\" id=\"sk-estimator-id-7\" type=\"checkbox\" ><label for=\"sk-estimator-id-7\" class=\"sk-toggleable__label fitted sk-toggleable__label-arrow fitted\">&nbsp;RandomForestClassifier<a class=\"sk-estimator-doc-link fitted\" rel=\"noreferrer\" target=\"_blank\" href=\"https://scikit-learn.org/1.4/modules/generated/sklearn.ensemble.RandomForestClassifier.html\">?<span>Documentation for RandomForestClassifier</span></a></label><div class=\"sk-toggleable__content fitted\"><pre>RandomForestClassifier(random_state=42)</pre></div> </div></div></div></div></div></div>"
      ],
      "text/plain": [
       "Pipeline(steps=[('preprocessor',\n",
       "                 ColumnTransformer(remainder='passthrough',\n",
       "                                   transformers=[('cat',\n",
       "                                                  OneHotEncoder(handle_unknown='ignore'),\n",
       "                                                  ['ProductCategory',\n",
       "                                                   'ProductBrand'])])),\n",
       "                ('classifier', RandomForestClassifier(random_state=42))])"
      ]
     },
     "execution_count": 30,
     "metadata": {},
     "output_type": "execute_result"
    }
   ],
   "source": [
    "pipeline.fit(X_train, y_train)\n"
   ]
  },
  {
   "cell_type": "markdown",
   "id": "6476ac91-31ef-4302-aaf7-aecf991dafe7",
   "metadata": {},
   "source": [
    "#### Train the model\n",
    "#### Fits (trains) the pipeline on the training data.\n",
    "#### Internally applies preprocessing and then trains the Random Forest model."
   ]
  },
  {
   "cell_type": "code",
   "execution_count": 39,
   "id": "ced845dc-af17-4108-abfd-704f61d6b05c",
   "metadata": {},
   "outputs": [],
   "source": [
    "y_pred = pipeline.predict(X_test)"
   ]
  },
  {
   "cell_type": "markdown",
   "id": "c1a393a5-94d4-4fb3-9666-08712118e188",
   "metadata": {},
   "source": [
    "#### Uses the trained pipeline to predict PurchaseIntent on test data."
   ]
  },
  {
   "cell_type": "code",
   "execution_count": 48,
   "id": "f73537b1-cfeb-4e7c-ba85-e35f73d7b1db",
   "metadata": {},
   "outputs": [
    {
     "name": "stdout",
     "output_type": "stream",
     "text": [
      "\n",
      "Accuracy: 0.9528\n",
      "RMSE: 0.2173\n"
     ]
    }
   ],
   "source": [
    "accuracy = accuracy_score(y_test, y_pred)\n",
    "rmse = np.sqrt(mean_squared_error(y_test, y_pred))\n",
    "\n",
    "print(f\"\\nAccuracy: {accuracy:.4f}\")\n",
    "print(f\"RMSE: {rmse:.4f}\")\n"
   ]
  },
  {
   "cell_type": "markdown",
   "id": "b4e744dc-0b40-44be-a80d-7acba82c1cbe",
   "metadata": {},
   "source": [
    "#### Accuracy and RMSE\n",
    "#### Accuracy: Percentage of correct predictions over total predictions.\n",
    "#### RMSE (Root Mean Squared Error): Measures the average magnitude of prediction error.\n",
    "#### RMSE is more commonly used in regression, but here it gives an additional sense of prediction spread for classification as 0/1."
   ]
  },
  {
   "cell_type": "code",
   "execution_count": 70,
   "id": "3c7ff036-289c-43fa-96f6-48f96818b833",
   "metadata": {},
   "outputs": [
    {
     "name": "stdout",
     "output_type": "stream",
     "text": [
      "   ProductID ProductCategory  ProductBrand  ProductPrice  CustomerAge  \\\n",
      "0       5874     Smartphones  Other Brands    312.949668           18   \n",
      "1       5875   Smart Watches       Samsung    980.389404           35   \n",
      "2       5876         Tablets       Samsung   2606.718293           63   \n",
      "3       5877     Smartphones       Samsung    870.395450           63   \n",
      "4       5878         Tablets          Sony   1798.955875           57   \n",
      "5       5879     Smartphones       Samsung    373.148325           37   \n",
      "6       5880     Smartphones       Samsung   2330.036775           26   \n",
      "7       5881     Smartphones            HP    780.101494           35   \n",
      "8       5882         Laptops  Other Brands   2264.561583           19   \n",
      "9       5883         Laptops            HP   1001.624006           66   \n",
      "\n",
      "   CustomerGender  PurchaseFrequency  CustomerSatisfaction  PurchaseIntent  \n",
      "0               0                  2                     1               0  \n",
      "1               1                  7                     2               1  \n",
      "2               0                  1                     5               1  \n",
      "3               1                 10                     3               1  \n",
      "4               0                 17                     3               0  \n",
      "5               1                  8                     1               1  \n",
      "6               1                  5                     5               1  \n",
      "7               0                 12                     5               1  \n",
      "8               1                  3                     4               1  \n",
      "9               1                  8                     4               1  \n",
      "  ProductCategory ProductBrand  ProductPrice  CustomerAge  CustomerGender  \\\n",
      "0         Tablets           HP   1614.413340           33               1   \n",
      "1     Smartphones           HP   1123.578976           60               1   \n",
      "2      Headphones        Apple   2192.783016           33               1   \n",
      "3     Smartphones         Sony   1132.985771           23               1   \n",
      "4   Smart Watches        Apple    736.194786           39               0   \n",
      "5      Headphones      Samsung   1578.351979           28               0   \n",
      "6         Laptops         Sony   2503.307576           35               0   \n",
      "7         Laptops        Apple   1828.010554           20               0   \n",
      "8      Headphones      Samsung   2843.720830           33               0   \n",
      "9      Headphones         Sony   1764.895339           23               1   \n",
      "\n",
      "   PurchaseFrequency  CustomerSatisfaction  PurchaseIntent  Predicted_Charges  \n",
      "0                 13                     3               1                  1  \n",
      "1                  4                     5               1                  1  \n",
      "2                 11                     4               1                  1  \n",
      "3                 14                     2               0                  0  \n",
      "4                 17                     2               0                  0  \n",
      "5                  9                     5               0                  0  \n",
      "6                  3                     4               1                  1  \n",
      "7                 16                     5               1                  0  \n",
      "8                 17                     5               1                  1  \n",
      "9                 19                     2               0                  0  \n"
     ]
    }
   ],
   "source": [
    "# Step 9: Add Predictions to Test Data\n",
    "# -------------------------------------\n",
    "# First, reset the index so we can merge properly\n",
    "X_test_reset = X_test.reset_index(drop=True)\n",
    "y_test_reset = y_test.reset_index(drop=True)\n",
    "y_pred_series = pd.Series(y_pred, name='Predicted_Charges')\n",
    "\n",
    "# Combine actual features, actual charges, and predicted charges\n",
    "final_df = pd.concat([X_test_reset, y_test_reset, y_pred_series], axis=1)\n",
    "\n",
    "# Show top 10 rows of the updated dataset\n",
    "print(df.head(10))\n",
    "print(final_df.head(10))"
   ]
  },
  {
   "cell_type": "markdown",
   "id": "a2a0cdfe-2bcb-4b80-9a7e-554b665d0a4e",
   "metadata": {},
   "source": [
    "# Conclusion\n",
    "#### The analysis and modeling performed on this consumer electronics sales dataset successfully revealed \n",
    "#### particularly a Random Forest classifier—we achieved high prediction accuracy, demonstrating the model’s \n",
    "#### effectiveness in identifying key drivers of purchase intent.\n",
    "\n",
    "#### Features like product price, customer satisfaction, and purchase frequency emerged as strong indicators \n",
    "#### of buying behavior. These insights not only aid in predictive modeling but also empower businesses to tailor\n",
    "#### their offerings and improve customer engagement strategies. Overall, this dataset provides a valuable\n",
    "#### foundation for data-driven decision-making in the consumer electronics market.\n",
    "\n"
   ]
  },
  {
   "cell_type": "code",
   "execution_count": null,
   "id": "ddf818e2-edac-4687-a094-b050b358c7c4",
   "metadata": {},
   "outputs": [],
   "source": []
  }
 ],
 "metadata": {
  "kernelspec": {
   "display_name": "Python [conda env:base] *",
   "language": "python",
   "name": "conda-base-py"
  },
  "language_info": {
   "codemirror_mode": {
    "name": "ipython",
    "version": 3
   },
   "file_extension": ".py",
   "mimetype": "text/x-python",
   "name": "python",
   "nbconvert_exporter": "python",
   "pygments_lexer": "ipython3",
   "version": "3.12.4"
  }
 },
 "nbformat": 4,
 "nbformat_minor": 5
}
